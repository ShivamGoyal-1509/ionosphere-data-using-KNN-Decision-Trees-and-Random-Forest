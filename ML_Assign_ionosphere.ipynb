{
 "cells": [
  {
   "cell_type": "code",
   "execution_count": 1,
   "metadata": {},
   "outputs": [],
   "source": [
    "import numpy as np\n",
    "import pandas as pd\n",
    "import matplotlib.pyplot as plt"
   ]
  },
  {
   "cell_type": "code",
   "execution_count": 2,
   "metadata": {},
   "outputs": [],
   "source": [
    "df=pd.read_csv('/Users/shivam_goyal/Downloads/ionosphere.data.csv')"
   ]
  },
  {
   "cell_type": "code",
   "execution_count": 3,
   "metadata": {},
   "outputs": [
    {
     "data": {
      "text/html": [
       "<div>\n",
       "<style scoped>\n",
       "    .dataframe tbody tr th:only-of-type {\n",
       "        vertical-align: middle;\n",
       "    }\n",
       "\n",
       "    .dataframe tbody tr th {\n",
       "        vertical-align: top;\n",
       "    }\n",
       "\n",
       "    .dataframe thead th {\n",
       "        text-align: right;\n",
       "    }\n",
       "</style>\n",
       "<table border=\"1\" class=\"dataframe\">\n",
       "  <thead>\n",
       "    <tr style=\"text-align: right;\">\n",
       "      <th></th>\n",
       "      <th>1</th>\n",
       "      <th>0</th>\n",
       "      <th>0.99539</th>\n",
       "      <th>-0.05889</th>\n",
       "      <th>0.85243</th>\n",
       "      <th>0.02306</th>\n",
       "      <th>0.83398</th>\n",
       "      <th>-0.37708</th>\n",
       "      <th>1.1</th>\n",
       "      <th>0.03760</th>\n",
       "      <th>...</th>\n",
       "      <th>-0.51171</th>\n",
       "      <th>0.41078</th>\n",
       "      <th>-0.46168</th>\n",
       "      <th>0.21266</th>\n",
       "      <th>-0.34090</th>\n",
       "      <th>0.42267</th>\n",
       "      <th>-0.54487</th>\n",
       "      <th>0.18641</th>\n",
       "      <th>-0.45300</th>\n",
       "      <th>g</th>\n",
       "    </tr>\n",
       "  </thead>\n",
       "  <tbody>\n",
       "    <tr>\n",
       "      <th>0</th>\n",
       "      <td>1</td>\n",
       "      <td>0</td>\n",
       "      <td>1.00000</td>\n",
       "      <td>-0.18829</td>\n",
       "      <td>0.93035</td>\n",
       "      <td>-0.36156</td>\n",
       "      <td>-0.10868</td>\n",
       "      <td>-0.93597</td>\n",
       "      <td>1.00000</td>\n",
       "      <td>-0.04549</td>\n",
       "      <td>...</td>\n",
       "      <td>-0.26569</td>\n",
       "      <td>-0.20468</td>\n",
       "      <td>-0.18401</td>\n",
       "      <td>-0.19040</td>\n",
       "      <td>-0.11593</td>\n",
       "      <td>-0.16626</td>\n",
       "      <td>-0.06288</td>\n",
       "      <td>-0.13738</td>\n",
       "      <td>-0.02447</td>\n",
       "      <td>b</td>\n",
       "    </tr>\n",
       "    <tr>\n",
       "      <th>1</th>\n",
       "      <td>1</td>\n",
       "      <td>0</td>\n",
       "      <td>1.00000</td>\n",
       "      <td>-0.03365</td>\n",
       "      <td>1.00000</td>\n",
       "      <td>0.00485</td>\n",
       "      <td>1.00000</td>\n",
       "      <td>-0.12062</td>\n",
       "      <td>0.88965</td>\n",
       "      <td>0.01198</td>\n",
       "      <td>...</td>\n",
       "      <td>-0.40220</td>\n",
       "      <td>0.58984</td>\n",
       "      <td>-0.22145</td>\n",
       "      <td>0.43100</td>\n",
       "      <td>-0.17365</td>\n",
       "      <td>0.60436</td>\n",
       "      <td>-0.24180</td>\n",
       "      <td>0.56045</td>\n",
       "      <td>-0.38238</td>\n",
       "      <td>g</td>\n",
       "    </tr>\n",
       "    <tr>\n",
       "      <th>2</th>\n",
       "      <td>1</td>\n",
       "      <td>0</td>\n",
       "      <td>1.00000</td>\n",
       "      <td>-0.45161</td>\n",
       "      <td>1.00000</td>\n",
       "      <td>1.00000</td>\n",
       "      <td>0.71216</td>\n",
       "      <td>-1.00000</td>\n",
       "      <td>0.00000</td>\n",
       "      <td>0.00000</td>\n",
       "      <td>...</td>\n",
       "      <td>0.90695</td>\n",
       "      <td>0.51613</td>\n",
       "      <td>1.00000</td>\n",
       "      <td>1.00000</td>\n",
       "      <td>-0.20099</td>\n",
       "      <td>0.25682</td>\n",
       "      <td>1.00000</td>\n",
       "      <td>-0.32382</td>\n",
       "      <td>1.00000</td>\n",
       "      <td>b</td>\n",
       "    </tr>\n",
       "    <tr>\n",
       "      <th>3</th>\n",
       "      <td>1</td>\n",
       "      <td>0</td>\n",
       "      <td>1.00000</td>\n",
       "      <td>-0.02401</td>\n",
       "      <td>0.94140</td>\n",
       "      <td>0.06531</td>\n",
       "      <td>0.92106</td>\n",
       "      <td>-0.23255</td>\n",
       "      <td>0.77152</td>\n",
       "      <td>-0.16399</td>\n",
       "      <td>...</td>\n",
       "      <td>-0.65158</td>\n",
       "      <td>0.13290</td>\n",
       "      <td>-0.53206</td>\n",
       "      <td>0.02431</td>\n",
       "      <td>-0.62197</td>\n",
       "      <td>-0.05707</td>\n",
       "      <td>-0.59573</td>\n",
       "      <td>-0.04608</td>\n",
       "      <td>-0.65697</td>\n",
       "      <td>g</td>\n",
       "    </tr>\n",
       "    <tr>\n",
       "      <th>4</th>\n",
       "      <td>1</td>\n",
       "      <td>0</td>\n",
       "      <td>0.02337</td>\n",
       "      <td>-0.00592</td>\n",
       "      <td>-0.09924</td>\n",
       "      <td>-0.11949</td>\n",
       "      <td>-0.00763</td>\n",
       "      <td>-0.11824</td>\n",
       "      <td>0.14706</td>\n",
       "      <td>0.06637</td>\n",
       "      <td>...</td>\n",
       "      <td>-0.01535</td>\n",
       "      <td>-0.03240</td>\n",
       "      <td>0.09223</td>\n",
       "      <td>-0.07859</td>\n",
       "      <td>0.00732</td>\n",
       "      <td>0.00000</td>\n",
       "      <td>0.00000</td>\n",
       "      <td>-0.00039</td>\n",
       "      <td>0.12011</td>\n",
       "      <td>b</td>\n",
       "    </tr>\n",
       "  </tbody>\n",
       "</table>\n",
       "<p>5 rows × 35 columns</p>\n",
       "</div>"
      ],
      "text/plain": [
       "   1  0  0.99539  -0.05889  0.85243  0.02306  0.83398  -0.37708      1.1  \\\n",
       "0  1  0  1.00000  -0.18829  0.93035 -0.36156 -0.10868  -0.93597  1.00000   \n",
       "1  1  0  1.00000  -0.03365  1.00000  0.00485  1.00000  -0.12062  0.88965   \n",
       "2  1  0  1.00000  -0.45161  1.00000  1.00000  0.71216  -1.00000  0.00000   \n",
       "3  1  0  1.00000  -0.02401  0.94140  0.06531  0.92106  -0.23255  0.77152   \n",
       "4  1  0  0.02337  -0.00592 -0.09924 -0.11949 -0.00763  -0.11824  0.14706   \n",
       "\n",
       "   0.03760  ...  -0.51171  0.41078  -0.46168  0.21266  -0.34090  0.42267  \\\n",
       "0 -0.04549  ...  -0.26569 -0.20468  -0.18401 -0.19040  -0.11593 -0.16626   \n",
       "1  0.01198  ...  -0.40220  0.58984  -0.22145  0.43100  -0.17365  0.60436   \n",
       "2  0.00000  ...   0.90695  0.51613   1.00000  1.00000  -0.20099  0.25682   \n",
       "3 -0.16399  ...  -0.65158  0.13290  -0.53206  0.02431  -0.62197 -0.05707   \n",
       "4  0.06637  ...  -0.01535 -0.03240   0.09223 -0.07859   0.00732  0.00000   \n",
       "\n",
       "   -0.54487  0.18641  -0.45300  g  \n",
       "0  -0.06288 -0.13738  -0.02447  b  \n",
       "1  -0.24180  0.56045  -0.38238  g  \n",
       "2   1.00000 -0.32382   1.00000  b  \n",
       "3  -0.59573 -0.04608  -0.65697  g  \n",
       "4   0.00000 -0.00039   0.12011  b  \n",
       "\n",
       "[5 rows x 35 columns]"
      ]
     },
     "execution_count": 3,
     "metadata": {},
     "output_type": "execute_result"
    }
   ],
   "source": [
    "df.head()"
   ]
  },
  {
   "cell_type": "code",
   "execution_count": 4,
   "metadata": {},
   "outputs": [],
   "source": [
    "from sklearn.preprocessing import LabelEncoder"
   ]
  },
  {
   "cell_type": "code",
   "execution_count": 5,
   "metadata": {},
   "outputs": [],
   "source": [
    "le=LabelEncoder()"
   ]
  },
  {
   "cell_type": "code",
   "execution_count": 6,
   "metadata": {},
   "outputs": [],
   "source": [
    "df['g']=le.fit_transform(df['g'])"
   ]
  },
  {
   "cell_type": "code",
   "execution_count": 7,
   "metadata": {},
   "outputs": [
    {
     "data": {
      "text/html": [
       "<div>\n",
       "<style scoped>\n",
       "    .dataframe tbody tr th:only-of-type {\n",
       "        vertical-align: middle;\n",
       "    }\n",
       "\n",
       "    .dataframe tbody tr th {\n",
       "        vertical-align: top;\n",
       "    }\n",
       "\n",
       "    .dataframe thead th {\n",
       "        text-align: right;\n",
       "    }\n",
       "</style>\n",
       "<table border=\"1\" class=\"dataframe\">\n",
       "  <thead>\n",
       "    <tr style=\"text-align: right;\">\n",
       "      <th></th>\n",
       "      <th>1</th>\n",
       "      <th>0</th>\n",
       "      <th>0.99539</th>\n",
       "      <th>-0.05889</th>\n",
       "      <th>0.85243</th>\n",
       "      <th>0.02306</th>\n",
       "      <th>0.83398</th>\n",
       "      <th>-0.37708</th>\n",
       "      <th>1.1</th>\n",
       "      <th>0.03760</th>\n",
       "      <th>...</th>\n",
       "      <th>-0.51171</th>\n",
       "      <th>0.41078</th>\n",
       "      <th>-0.46168</th>\n",
       "      <th>0.21266</th>\n",
       "      <th>-0.34090</th>\n",
       "      <th>0.42267</th>\n",
       "      <th>-0.54487</th>\n",
       "      <th>0.18641</th>\n",
       "      <th>-0.45300</th>\n",
       "      <th>g</th>\n",
       "    </tr>\n",
       "  </thead>\n",
       "  <tbody>\n",
       "    <tr>\n",
       "      <th>0</th>\n",
       "      <td>1</td>\n",
       "      <td>0</td>\n",
       "      <td>1.00000</td>\n",
       "      <td>-0.18829</td>\n",
       "      <td>0.93035</td>\n",
       "      <td>-0.36156</td>\n",
       "      <td>-0.10868</td>\n",
       "      <td>-0.93597</td>\n",
       "      <td>1.00000</td>\n",
       "      <td>-0.04549</td>\n",
       "      <td>...</td>\n",
       "      <td>-0.26569</td>\n",
       "      <td>-0.20468</td>\n",
       "      <td>-0.18401</td>\n",
       "      <td>-0.19040</td>\n",
       "      <td>-0.11593</td>\n",
       "      <td>-0.16626</td>\n",
       "      <td>-0.06288</td>\n",
       "      <td>-0.13738</td>\n",
       "      <td>-0.02447</td>\n",
       "      <td>0</td>\n",
       "    </tr>\n",
       "    <tr>\n",
       "      <th>1</th>\n",
       "      <td>1</td>\n",
       "      <td>0</td>\n",
       "      <td>1.00000</td>\n",
       "      <td>-0.03365</td>\n",
       "      <td>1.00000</td>\n",
       "      <td>0.00485</td>\n",
       "      <td>1.00000</td>\n",
       "      <td>-0.12062</td>\n",
       "      <td>0.88965</td>\n",
       "      <td>0.01198</td>\n",
       "      <td>...</td>\n",
       "      <td>-0.40220</td>\n",
       "      <td>0.58984</td>\n",
       "      <td>-0.22145</td>\n",
       "      <td>0.43100</td>\n",
       "      <td>-0.17365</td>\n",
       "      <td>0.60436</td>\n",
       "      <td>-0.24180</td>\n",
       "      <td>0.56045</td>\n",
       "      <td>-0.38238</td>\n",
       "      <td>1</td>\n",
       "    </tr>\n",
       "    <tr>\n",
       "      <th>2</th>\n",
       "      <td>1</td>\n",
       "      <td>0</td>\n",
       "      <td>1.00000</td>\n",
       "      <td>-0.45161</td>\n",
       "      <td>1.00000</td>\n",
       "      <td>1.00000</td>\n",
       "      <td>0.71216</td>\n",
       "      <td>-1.00000</td>\n",
       "      <td>0.00000</td>\n",
       "      <td>0.00000</td>\n",
       "      <td>...</td>\n",
       "      <td>0.90695</td>\n",
       "      <td>0.51613</td>\n",
       "      <td>1.00000</td>\n",
       "      <td>1.00000</td>\n",
       "      <td>-0.20099</td>\n",
       "      <td>0.25682</td>\n",
       "      <td>1.00000</td>\n",
       "      <td>-0.32382</td>\n",
       "      <td>1.00000</td>\n",
       "      <td>0</td>\n",
       "    </tr>\n",
       "    <tr>\n",
       "      <th>3</th>\n",
       "      <td>1</td>\n",
       "      <td>0</td>\n",
       "      <td>1.00000</td>\n",
       "      <td>-0.02401</td>\n",
       "      <td>0.94140</td>\n",
       "      <td>0.06531</td>\n",
       "      <td>0.92106</td>\n",
       "      <td>-0.23255</td>\n",
       "      <td>0.77152</td>\n",
       "      <td>-0.16399</td>\n",
       "      <td>...</td>\n",
       "      <td>-0.65158</td>\n",
       "      <td>0.13290</td>\n",
       "      <td>-0.53206</td>\n",
       "      <td>0.02431</td>\n",
       "      <td>-0.62197</td>\n",
       "      <td>-0.05707</td>\n",
       "      <td>-0.59573</td>\n",
       "      <td>-0.04608</td>\n",
       "      <td>-0.65697</td>\n",
       "      <td>1</td>\n",
       "    </tr>\n",
       "    <tr>\n",
       "      <th>4</th>\n",
       "      <td>1</td>\n",
       "      <td>0</td>\n",
       "      <td>0.02337</td>\n",
       "      <td>-0.00592</td>\n",
       "      <td>-0.09924</td>\n",
       "      <td>-0.11949</td>\n",
       "      <td>-0.00763</td>\n",
       "      <td>-0.11824</td>\n",
       "      <td>0.14706</td>\n",
       "      <td>0.06637</td>\n",
       "      <td>...</td>\n",
       "      <td>-0.01535</td>\n",
       "      <td>-0.03240</td>\n",
       "      <td>0.09223</td>\n",
       "      <td>-0.07859</td>\n",
       "      <td>0.00732</td>\n",
       "      <td>0.00000</td>\n",
       "      <td>0.00000</td>\n",
       "      <td>-0.00039</td>\n",
       "      <td>0.12011</td>\n",
       "      <td>0</td>\n",
       "    </tr>\n",
       "  </tbody>\n",
       "</table>\n",
       "<p>5 rows × 35 columns</p>\n",
       "</div>"
      ],
      "text/plain": [
       "   1  0  0.99539  -0.05889  0.85243  0.02306  0.83398  -0.37708      1.1  \\\n",
       "0  1  0  1.00000  -0.18829  0.93035 -0.36156 -0.10868  -0.93597  1.00000   \n",
       "1  1  0  1.00000  -0.03365  1.00000  0.00485  1.00000  -0.12062  0.88965   \n",
       "2  1  0  1.00000  -0.45161  1.00000  1.00000  0.71216  -1.00000  0.00000   \n",
       "3  1  0  1.00000  -0.02401  0.94140  0.06531  0.92106  -0.23255  0.77152   \n",
       "4  1  0  0.02337  -0.00592 -0.09924 -0.11949 -0.00763  -0.11824  0.14706   \n",
       "\n",
       "   0.03760  ...  -0.51171  0.41078  -0.46168  0.21266  -0.34090  0.42267  \\\n",
       "0 -0.04549  ...  -0.26569 -0.20468  -0.18401 -0.19040  -0.11593 -0.16626   \n",
       "1  0.01198  ...  -0.40220  0.58984  -0.22145  0.43100  -0.17365  0.60436   \n",
       "2  0.00000  ...   0.90695  0.51613   1.00000  1.00000  -0.20099  0.25682   \n",
       "3 -0.16399  ...  -0.65158  0.13290  -0.53206  0.02431  -0.62197 -0.05707   \n",
       "4  0.06637  ...  -0.01535 -0.03240   0.09223 -0.07859   0.00732  0.00000   \n",
       "\n",
       "   -0.54487  0.18641  -0.45300  g  \n",
       "0  -0.06288 -0.13738  -0.02447  0  \n",
       "1  -0.24180  0.56045  -0.38238  1  \n",
       "2   1.00000 -0.32382   1.00000  0  \n",
       "3  -0.59573 -0.04608  -0.65697  1  \n",
       "4   0.00000 -0.00039   0.12011  0  \n",
       "\n",
       "[5 rows x 35 columns]"
      ]
     },
     "execution_count": 7,
     "metadata": {},
     "output_type": "execute_result"
    }
   ],
   "source": [
    "df.head()"
   ]
  },
  {
   "cell_type": "markdown",
   "metadata": {},
   "source": [
    "## KNN"
   ]
  },
  {
   "cell_type": "markdown",
   "metadata": {},
   "source": [
    "#### k=5"
   ]
  },
  {
   "cell_type": "markdown",
   "metadata": {},
   "source": [
    "#### 30% test data"
   ]
  },
  {
   "cell_type": "code",
   "execution_count": 8,
   "metadata": {},
   "outputs": [],
   "source": [
    "i=int(df.shape[0]*0.3)\n",
    "df=df.values"
   ]
  },
  {
   "cell_type": "code",
   "execution_count": 9,
   "metadata": {},
   "outputs": [],
   "source": [
    "df_test=df[:i,:]\n",
    "df_train=df[i:,:]\n",
    "df_train_x=df_train[:,:-1]\n",
    "df_train_y=df_train[:,-1]\n",
    "df_test_x=df_test[:,:-1]\n",
    "df_test_y=df_test[:,-1]"
   ]
  },
  {
   "cell_type": "code",
   "execution_count": 10,
   "metadata": {},
   "outputs": [
    {
     "name": "stdout",
     "output_type": "stream",
     "text": [
      "(245, 34)\n",
      "(245,)\n",
      "(105, 34)\n",
      "(105,)\n"
     ]
    }
   ],
   "source": [
    "print(df_train_x.shape)\n",
    "print(df_train_y.shape)\n",
    "print(df_test_x.shape)\n",
    "print(df_test_y.shape)"
   ]
  },
  {
   "cell_type": "code",
   "execution_count": 49,
   "metadata": {},
   "outputs": [],
   "source": [
    "def dist(x1,x2):\n",
    "    return np.sqrt(sum((x2-x1)**2))\n",
    "def knn(X,Y,query_point,k=5):\n",
    "    vals=[]\n",
    "    m=X.shape[0]\n",
    "    for i in range(m):\n",
    "        d=dist(query_point,X[i])\n",
    "        vals.append((d,Y[i]))\n",
    "    \n",
    "    vals=sorted(vals)\n",
    "    vals=vals[:k]\n",
    "    vals=np.array(vals)\n",
    "    new_vals=np.unique(vals[:,1],return_counts=True)\n",
    "    #print(new_vals)\n",
    "    index=new_vals[1].argmax()\n",
    "    pred=new_vals[0][index]\n",
    "    return pred\n",
    "    #print(vals)"
   ]
  },
  {
   "cell_type": "code",
   "execution_count": 50,
   "metadata": {},
   "outputs": [
    {
     "name": "stdout",
     "output_type": "stream",
     "text": [
      "[1.0, 1.0, 1.0, 1.0, 0.0, 1.0, 0.0, 1.0, 0.0, 1.0, 1.0, 1.0, 1.0, 1.0, 1.0, 1.0, 0.0, 1.0, 1.0, 1.0, 0.0, 1.0, 0.0, 1.0, 1.0, 1.0, 0.0, 1.0, 0.0, 1.0, 1.0, 1.0, 1.0, 1.0, 1.0, 1.0, 0.0, 1.0, 1.0, 1.0, 0.0, 1.0, 1.0, 1.0, 0.0, 1.0, 0.0, 1.0, 0.0, 1.0, 1.0, 1.0, 0.0, 1.0, 0.0, 1.0, 0.0, 1.0, 0.0, 1.0, 0.0, 1.0, 1.0, 1.0, 1.0, 1.0, 1.0, 1.0, 1.0, 1.0, 0.0, 1.0, 1.0, 1.0, 1.0, 1.0, 1.0, 1.0, 1.0, 1.0, 1.0, 1.0, 1.0, 1.0, 1.0, 1.0, 1.0, 1.0, 1.0, 1.0, 0.0, 1.0, 0.0, 1.0, 1.0, 1.0, 1.0, 0.0, 1.0, 1.0, 1.0, 0.0, 1.0, 0.0, 1.0]\n"
     ]
    }
   ],
   "source": [
    "y=[]\n",
    "for i in range(df_test_x.shape[0]):\n",
    "    x=knn(df_train_x,df_train_y,df_test_x[i])\n",
    "    y.append(x)\n",
    "print(y)"
   ]
  },
  {
   "cell_type": "code",
   "execution_count": 51,
   "metadata": {},
   "outputs": [
    {
     "name": "stdout",
     "output_type": "stream",
     "text": [
      "[0. 1. 0. 1. 0. 1. 0. 1. 0. 1. 0. 1. 0. 1. 0. 1. 0. 1. 0. 1. 0. 1. 0. 1.\n",
      " 0. 1. 0. 1. 0. 1. 0. 1. 0. 1. 0. 1. 0. 1. 0. 1. 0. 1. 0. 1. 0. 1. 0. 1.\n",
      " 0. 1. 0. 1. 0. 1. 0. 1. 0. 1. 0. 1. 0. 1. 0. 1. 0. 1. 0. 1. 0. 1. 0. 1.\n",
      " 0. 1. 0. 1. 0. 1. 0. 1. 0. 1. 0. 1. 0. 1. 0. 1. 0. 1. 0. 1. 0. 1. 0. 1.\n",
      " 1. 0. 1. 0. 1. 0. 1. 0. 1.]\n"
     ]
    }
   ],
   "source": [
    "print(df_test_y)"
   ]
  },
  {
   "cell_type": "code",
   "execution_count": 52,
   "metadata": {},
   "outputs": [
    {
     "name": "stdout",
     "output_type": "stream",
     "text": [
      "73.33333333333333\n"
     ]
    }
   ],
   "source": [
    "acc=np.sum(df_test_y==y)/df_test_y.shape[0]\n",
    "print(acc*100)"
   ]
  },
  {
   "cell_type": "markdown",
   "metadata": {},
   "source": [
    "### Decision Trees and Random Forest"
   ]
  },
  {
   "cell_type": "code",
   "execution_count": 14,
   "metadata": {},
   "outputs": [],
   "source": [
    "df=pd.read_csv('/Users/shivam_goyal/Downloads/ionosphere.data.csv')"
   ]
  },
  {
   "cell_type": "code",
   "execution_count": 15,
   "metadata": {},
   "outputs": [],
   "source": [
    "le=LabelEncoder()"
   ]
  },
  {
   "cell_type": "code",
   "execution_count": 16,
   "metadata": {},
   "outputs": [],
   "source": [
    "df['g']=le.fit_transform(df['g'])"
   ]
  },
  {
   "cell_type": "code",
   "execution_count": 17,
   "metadata": {},
   "outputs": [
    {
     "data": {
      "text/html": [
       "<div>\n",
       "<style scoped>\n",
       "    .dataframe tbody tr th:only-of-type {\n",
       "        vertical-align: middle;\n",
       "    }\n",
       "\n",
       "    .dataframe tbody tr th {\n",
       "        vertical-align: top;\n",
       "    }\n",
       "\n",
       "    .dataframe thead th {\n",
       "        text-align: right;\n",
       "    }\n",
       "</style>\n",
       "<table border=\"1\" class=\"dataframe\">\n",
       "  <thead>\n",
       "    <tr style=\"text-align: right;\">\n",
       "      <th></th>\n",
       "      <th>1</th>\n",
       "      <th>0</th>\n",
       "      <th>0.99539</th>\n",
       "      <th>-0.05889</th>\n",
       "      <th>0.85243</th>\n",
       "      <th>0.02306</th>\n",
       "      <th>0.83398</th>\n",
       "      <th>-0.37708</th>\n",
       "      <th>1.1</th>\n",
       "      <th>0.03760</th>\n",
       "      <th>...</th>\n",
       "      <th>-0.51171</th>\n",
       "      <th>0.41078</th>\n",
       "      <th>-0.46168</th>\n",
       "      <th>0.21266</th>\n",
       "      <th>-0.34090</th>\n",
       "      <th>0.42267</th>\n",
       "      <th>-0.54487</th>\n",
       "      <th>0.18641</th>\n",
       "      <th>-0.45300</th>\n",
       "      <th>g</th>\n",
       "    </tr>\n",
       "  </thead>\n",
       "  <tbody>\n",
       "    <tr>\n",
       "      <th>0</th>\n",
       "      <td>1</td>\n",
       "      <td>0</td>\n",
       "      <td>1.00000</td>\n",
       "      <td>-0.18829</td>\n",
       "      <td>0.93035</td>\n",
       "      <td>-0.36156</td>\n",
       "      <td>-0.10868</td>\n",
       "      <td>-0.93597</td>\n",
       "      <td>1.00000</td>\n",
       "      <td>-0.04549</td>\n",
       "      <td>...</td>\n",
       "      <td>-0.26569</td>\n",
       "      <td>-0.20468</td>\n",
       "      <td>-0.18401</td>\n",
       "      <td>-0.19040</td>\n",
       "      <td>-0.11593</td>\n",
       "      <td>-0.16626</td>\n",
       "      <td>-0.06288</td>\n",
       "      <td>-0.13738</td>\n",
       "      <td>-0.02447</td>\n",
       "      <td>0</td>\n",
       "    </tr>\n",
       "    <tr>\n",
       "      <th>1</th>\n",
       "      <td>1</td>\n",
       "      <td>0</td>\n",
       "      <td>1.00000</td>\n",
       "      <td>-0.03365</td>\n",
       "      <td>1.00000</td>\n",
       "      <td>0.00485</td>\n",
       "      <td>1.00000</td>\n",
       "      <td>-0.12062</td>\n",
       "      <td>0.88965</td>\n",
       "      <td>0.01198</td>\n",
       "      <td>...</td>\n",
       "      <td>-0.40220</td>\n",
       "      <td>0.58984</td>\n",
       "      <td>-0.22145</td>\n",
       "      <td>0.43100</td>\n",
       "      <td>-0.17365</td>\n",
       "      <td>0.60436</td>\n",
       "      <td>-0.24180</td>\n",
       "      <td>0.56045</td>\n",
       "      <td>-0.38238</td>\n",
       "      <td>1</td>\n",
       "    </tr>\n",
       "    <tr>\n",
       "      <th>2</th>\n",
       "      <td>1</td>\n",
       "      <td>0</td>\n",
       "      <td>1.00000</td>\n",
       "      <td>-0.45161</td>\n",
       "      <td>1.00000</td>\n",
       "      <td>1.00000</td>\n",
       "      <td>0.71216</td>\n",
       "      <td>-1.00000</td>\n",
       "      <td>0.00000</td>\n",
       "      <td>0.00000</td>\n",
       "      <td>...</td>\n",
       "      <td>0.90695</td>\n",
       "      <td>0.51613</td>\n",
       "      <td>1.00000</td>\n",
       "      <td>1.00000</td>\n",
       "      <td>-0.20099</td>\n",
       "      <td>0.25682</td>\n",
       "      <td>1.00000</td>\n",
       "      <td>-0.32382</td>\n",
       "      <td>1.00000</td>\n",
       "      <td>0</td>\n",
       "    </tr>\n",
       "    <tr>\n",
       "      <th>3</th>\n",
       "      <td>1</td>\n",
       "      <td>0</td>\n",
       "      <td>1.00000</td>\n",
       "      <td>-0.02401</td>\n",
       "      <td>0.94140</td>\n",
       "      <td>0.06531</td>\n",
       "      <td>0.92106</td>\n",
       "      <td>-0.23255</td>\n",
       "      <td>0.77152</td>\n",
       "      <td>-0.16399</td>\n",
       "      <td>...</td>\n",
       "      <td>-0.65158</td>\n",
       "      <td>0.13290</td>\n",
       "      <td>-0.53206</td>\n",
       "      <td>0.02431</td>\n",
       "      <td>-0.62197</td>\n",
       "      <td>-0.05707</td>\n",
       "      <td>-0.59573</td>\n",
       "      <td>-0.04608</td>\n",
       "      <td>-0.65697</td>\n",
       "      <td>1</td>\n",
       "    </tr>\n",
       "    <tr>\n",
       "      <th>4</th>\n",
       "      <td>1</td>\n",
       "      <td>0</td>\n",
       "      <td>0.02337</td>\n",
       "      <td>-0.00592</td>\n",
       "      <td>-0.09924</td>\n",
       "      <td>-0.11949</td>\n",
       "      <td>-0.00763</td>\n",
       "      <td>-0.11824</td>\n",
       "      <td>0.14706</td>\n",
       "      <td>0.06637</td>\n",
       "      <td>...</td>\n",
       "      <td>-0.01535</td>\n",
       "      <td>-0.03240</td>\n",
       "      <td>0.09223</td>\n",
       "      <td>-0.07859</td>\n",
       "      <td>0.00732</td>\n",
       "      <td>0.00000</td>\n",
       "      <td>0.00000</td>\n",
       "      <td>-0.00039</td>\n",
       "      <td>0.12011</td>\n",
       "      <td>0</td>\n",
       "    </tr>\n",
       "  </tbody>\n",
       "</table>\n",
       "<p>5 rows × 35 columns</p>\n",
       "</div>"
      ],
      "text/plain": [
       "   1  0  0.99539  -0.05889  0.85243  0.02306  0.83398  -0.37708      1.1  \\\n",
       "0  1  0  1.00000  -0.18829  0.93035 -0.36156 -0.10868  -0.93597  1.00000   \n",
       "1  1  0  1.00000  -0.03365  1.00000  0.00485  1.00000  -0.12062  0.88965   \n",
       "2  1  0  1.00000  -0.45161  1.00000  1.00000  0.71216  -1.00000  0.00000   \n",
       "3  1  0  1.00000  -0.02401  0.94140  0.06531  0.92106  -0.23255  0.77152   \n",
       "4  1  0  0.02337  -0.00592 -0.09924 -0.11949 -0.00763  -0.11824  0.14706   \n",
       "\n",
       "   0.03760  ...  -0.51171  0.41078  -0.46168  0.21266  -0.34090  0.42267  \\\n",
       "0 -0.04549  ...  -0.26569 -0.20468  -0.18401 -0.19040  -0.11593 -0.16626   \n",
       "1  0.01198  ...  -0.40220  0.58984  -0.22145  0.43100  -0.17365  0.60436   \n",
       "2  0.00000  ...   0.90695  0.51613   1.00000  1.00000  -0.20099  0.25682   \n",
       "3 -0.16399  ...  -0.65158  0.13290  -0.53206  0.02431  -0.62197 -0.05707   \n",
       "4  0.06637  ...  -0.01535 -0.03240   0.09223 -0.07859   0.00732  0.00000   \n",
       "\n",
       "   -0.54487  0.18641  -0.45300  g  \n",
       "0  -0.06288 -0.13738  -0.02447  0  \n",
       "1  -0.24180  0.56045  -0.38238  1  \n",
       "2   1.00000 -0.32382   1.00000  0  \n",
       "3  -0.59573 -0.04608  -0.65697  1  \n",
       "4   0.00000 -0.00039   0.12011  0  \n",
       "\n",
       "[5 rows x 35 columns]"
      ]
     },
     "execution_count": 17,
     "metadata": {},
     "output_type": "execute_result"
    }
   ],
   "source": [
    "df.head()"
   ]
  },
  {
   "cell_type": "code",
   "execution_count": 110,
   "metadata": {},
   "outputs": [],
   "source": [
    "def entropy(col):\n",
    "    counts=np.unique(col,return_counts=True)\n",
    "    N=float(col.shape[0])\n",
    "    ent=0.0\n",
    "    for i in counts[1]:\n",
    "        p=i/N\n",
    "        ent+=(-1.0*p*np.log2(p))\n",
    "    return ent"
   ]
  },
  {
   "cell_type": "code",
   "execution_count": 111,
   "metadata": {},
   "outputs": [],
   "source": [
    "def divide_data(x_data,fkey,fval):\n",
    "    #Work with Pandas Data Frames\n",
    "    x_right = pd.DataFrame([],columns=x_data.columns)\n",
    "    x_left = pd.DataFrame([],columns=x_data.columns)\n",
    "    \n",
    "    for ix in range(x_data.shape[0]):\n",
    "        val = x_data[fkey].loc[ix]\n",
    "        \n",
    "        if val > fval:\n",
    "            x_right = x_right.append(x_data.loc[ix])\n",
    "        else:\n",
    "            x_left = x_left.append(x_data.loc[ix])\n",
    "            \n",
    "    return x_left,x_right"
   ]
  },
  {
   "cell_type": "code",
   "execution_count": 112,
   "metadata": {},
   "outputs": [],
   "source": [
    "def information_gain(x_data,fkey,fval):\n",
    "    \n",
    "    right,left=divide_data(x_data,fkey,fval)\n",
    "    \n",
    "    # % of samples on the right and left side\n",
    "    l=float(left.shape[0])/x_data.shape[0]\n",
    "    r=float(right.shape[0])/x_data.shape[0]\n",
    "    \n",
    "    if left.shape[0]==0 or right.shape[0]==0:\n",
    "        return -100000\n",
    "    \n",
    "    i_gain=entropy(x_data.g)-(l*entropy(left.g)+r*entropy(right.g))\n",
    "    return i_gain"
   ]
  },
  {
   "cell_type": "code",
   "execution_count": 113,
   "metadata": {},
   "outputs": [
    {
     "data": {
      "text/plain": [
       "(350, 35)"
      ]
     },
     "execution_count": 113,
     "metadata": {},
     "output_type": "execute_result"
    }
   ],
   "source": [
    "df.shape"
   ]
  },
  {
   "cell_type": "code",
   "execution_count": 18,
   "metadata": {},
   "outputs": [],
   "source": [
    "output_cols=['g']\n",
    "input_cols=['1','0','0.99539','-0.05889','0.85243','0.02306','0.83398','-0.37708','1.1','0.03760','0.85243','-0.17755','0.59755','-0.44945','0.60536','-0.38223','0.84356','-0.38542','0.58212','-0.32192','0.56971','-0.29674','0.36946','-0.47357','0.56811','-0.51171','0.41078','-0.46168','0.21266','-0.34090','0.42267','-0.54487','0.18641','-0.45300']"
   ]
  },
  {
   "cell_type": "code",
   "execution_count": 19,
   "metadata": {},
   "outputs": [
    {
     "name": "stdout",
     "output_type": "stream",
     "text": [
      "(350, 34)\n",
      "(350, 1)\n"
     ]
    }
   ],
   "source": [
    "X=df[input_cols]\n",
    "Y=df[output_cols]\n",
    "print(X.shape)\n",
    "print(Y.shape)"
   ]
  },
  {
   "cell_type": "code",
   "execution_count": 116,
   "metadata": {
    "scrolled": true
   },
   "outputs": [
    {
     "name": "stdout",
     "output_type": "stream",
     "text": [
      "1\n",
      "0.17763173981538927\n",
      "0\n",
      "-100000\n",
      "0.99539\n",
      "0.1330778455260856\n",
      "-0.05889\n",
      "0.02304946886937309\n",
      "0.85243\n",
      "0.1571451630505406\n",
      "0.02306\n",
      "0.008673923723360177\n",
      "0.83398\n",
      "0.08722844863738011\n",
      "-0.37708\n",
      "0.01940292306448288\n",
      "1.1\n",
      "0.05419527252568068\n",
      "0.03760\n",
      "0.0008212185052154375\n",
      "0.85243\n",
      "0.1571451630505406\n",
      "-0.17755\n",
      "0.011401703839582167\n",
      "0.59755\n",
      "0.07313188035262408\n",
      "-0.44945\n",
      "0.008750078596104549\n",
      "0.60536\n",
      "0.09169346188987582\n",
      "-0.38223\n",
      "0.00787078337051883\n",
      "0.84356\n",
      "0.035162335481838114\n",
      "-0.38542\n",
      "1.051695281073517e-05\n",
      "0.58212\n",
      "0.02916616933311078\n",
      "-0.32192\n",
      "0.0014995504306224428\n",
      "0.56971\n",
      "0.08396186002691441\n",
      "-0.29674\n",
      "0.002117023026184439\n",
      "0.36946\n",
      "0.05177823071840082\n",
      "-0.47357\n",
      "0.0018071936351147233\n",
      "0.56811\n",
      "0.04383784630621046\n",
      "-0.51171\n",
      "0.0019256730750570883\n",
      "0.41078\n",
      "0.003923521866864177\n",
      "-0.46168\n",
      "0.007456814283464008\n",
      "0.21266\n",
      "0.05232350202963565\n",
      "-0.34090\n",
      "0.009212539114387241\n",
      "0.42267\n",
      "0.08109958894286873\n",
      "-0.54487\n",
      "0.015749871127948123\n",
      "0.18641\n",
      "0.0895189112287883\n",
      "-0.45300\n",
      "0.008831643311327464\n"
     ]
    }
   ],
   "source": [
    "# testing of function\n",
    "for i in X.columns:\n",
    "    print(i)\n",
    "    print(information_gain(df,i,df[i].mean()))"
   ]
  },
  {
   "cell_type": "markdown",
   "metadata": {},
   "source": [
    "### Decision tree\n",
    "#### max_depth=5"
   ]
  },
  {
   "cell_type": "code",
   "execution_count": 117,
   "metadata": {},
   "outputs": [],
   "source": [
    "class DecisionTree:\n",
    "    \n",
    "    #Constructor\n",
    "    def __init__(self,depth=0,max_depth=5):\n",
    "        self.left = None\n",
    "        self.right = None\n",
    "        self.fkey = None\n",
    "        self.fval = None\n",
    "        self.max_depth = max_depth\n",
    "        self.depth = depth\n",
    "        self.target = None\n",
    "        \n",
    "    def train(self,X_train):\n",
    "        \n",
    "        features = ['1','0','0.99539','-0.05889','0.85243','0.02306','0.83398','-0.37708','1.1','0.03760','0.85243','-0.17755','0.59755','-0.44945','0.60536','-0.38223','0.84356','-0.38542','0.58212','-0.32192','0.56971','-0.29674','0.36946','-0.47357','0.56811','-0.51171','0.41078','-0.46168','0.21266','-0.34090','0.42267','-0.54487','0.18641','-0.45300']\n",
    "        info_gains = []\n",
    "        \n",
    "        for ix in features:\n",
    "            i_gain = information_gain(X_train,ix,X_train[ix].mean())\n",
    "            info_gains.append(i_gain)\n",
    "            \n",
    "        self.fkey = features[np.argmax(info_gains)]\n",
    "        self.fval = X_train[self.fkey].mean()\n",
    "        print(\"Making Tree Features is\",self.fkey)\n",
    "        \n",
    "        #Split Data\n",
    "        data_left,data_right = divide_data(X_train,self.fkey,self.fval)\n",
    "        data_left = data_left.reset_index(drop=True)\n",
    "        data_right = data_right.reset_index(drop=True)\n",
    "         \n",
    "        #Truly a left node\n",
    "        if data_left.shape[0]  == 0 or data_right.shape[0] ==0:\n",
    "            if X_train.g.mean() >= 0.5:\n",
    "                self.target = \"Sion\"\n",
    "            else:\n",
    "                self.target = \"Dion\"\n",
    "            return\n",
    "        #Stop earyly when depth >=max depth\n",
    "        if(self.depth>=self.max_depth):\n",
    "            if X_train.g.mean() >= 0.5:\n",
    "                self.target = \"Sion\"\n",
    "            else:\n",
    "                self.target = \"Dion\"\n",
    "            return\n",
    "        \n",
    "        #Recursive Case\n",
    "        self.left = DecisionTree(depth=self.depth+1,max_depth=self.max_depth)\n",
    "        self.left.train(data_left)\n",
    "        \n",
    "        self.right = DecisionTree(depth=self.depth+1,max_depth=self.max_depth)\n",
    "        self.right.train(data_right)\n",
    "        \n",
    "        #You can set the target at every node\n",
    "        if X_train.g.mean() >= 0.5:\n",
    "            self.target = \"Sion\"\n",
    "        else:\n",
    "            self.target = \"Dion\"\n",
    "        return\n",
    "    \n",
    "    def predict(self,test):\n",
    "        if test[self.fkey]>self.fval:\n",
    "            #go to right\n",
    "            if self.right is None:\n",
    "                return self.target\n",
    "            return self.right.predict(test)\n",
    "        else:\n",
    "            if self.left is None:\n",
    "                return self.target\n",
    "            return self.left.predict(test)"
   ]
  },
  {
   "cell_type": "markdown",
   "metadata": {},
   "source": [
    "#### 30% testing data"
   ]
  },
  {
   "cell_type": "code",
   "execution_count": 118,
   "metadata": {},
   "outputs": [],
   "source": [
    "split=int(0.7*df.shape[0])\n",
    "train_data=df[:split]\n",
    "test_data=df[split:]\n",
    "test_data=test_data.reset_index(drop=True)"
   ]
  },
  {
   "cell_type": "code",
   "execution_count": 122,
   "metadata": {
    "scrolled": true
   },
   "outputs": [
    {
     "name": "stdout",
     "output_type": "stream",
     "text": [
      "Making Tree Features is 0.85243\n",
      "Making Tree Features is 0.83398\n",
      "Making Tree Features is -0.37708\n",
      "Making Tree Features is 1\n",
      "Making Tree Features is 0.99539\n",
      "Making Tree Features is 0.99539\n",
      "Making Tree Features is -0.05889\n",
      "Making Tree Features is 0.99539\n",
      "Making Tree Features is 0.99539\n",
      "Making Tree Features is 0.99539\n",
      "Making Tree Features is -0.17755\n",
      "Making Tree Features is 1\n",
      "Making Tree Features is 1\n",
      "Making Tree Features is 0.99539\n",
      "Making Tree Features is 0.85243\n",
      "Making Tree Features is 1\n",
      "Making Tree Features is 0.99539\n",
      "Making Tree Features is 0.85243\n",
      "Making Tree Features is 1\n",
      "Making Tree Features is 0.99539\n",
      "Making Tree Features is 0.85243\n",
      "Making Tree Features is 1\n",
      "Making Tree Features is 0.99539\n",
      "Making Tree Features is 0.99539\n",
      "Making Tree Features is 0.99539\n",
      "Making Tree Features is -0.54487\n",
      "Making Tree Features is 0.99539\n",
      "Making Tree Features is 0.99539\n",
      "Making Tree Features is 0.02306\n",
      "Making Tree Features is -0.44945\n",
      "Making Tree Features is 0.99539\n",
      "Making Tree Features is -0.17755\n",
      "Making Tree Features is 1\n",
      "Making Tree Features is 0.99539\n",
      "Making Tree Features is 0.99539\n",
      "Making Tree Features is -0.05889\n",
      "Making Tree Features is 0.02306\n",
      "Making Tree Features is 0.02306\n",
      "Making Tree Features is 0.83398\n",
      "Making Tree Features is 1\n",
      "Making Tree Features is 1\n",
      "Making Tree Features is -0.05889\n",
      "Making Tree Features is 0.02306\n",
      "Making Tree Features is 1\n",
      "Making Tree Features is 0.83398\n",
      "Making Tree Features is 0.83398\n",
      "Making Tree Features is -0.17755\n",
      "Making Tree Features is -0.37708\n",
      "Making Tree Features is 0.99539\n",
      "Making Tree Features is 0.85243\n",
      "Making Tree Features is -0.37708\n",
      "Making Tree Features is -0.17755\n",
      "Making Tree Features is 0.99539\n",
      "Making Tree Features is -0.38223\n",
      "Making Tree Features is 0.99539\n",
      "Making Tree Features is 0.99539\n",
      "Making Tree Features is 0.99539\n",
      "Making Tree Features is -0.32192\n",
      "Making Tree Features is 0.99539\n",
      "Making Tree Features is -0.47357\n",
      "Making Tree Features is 0.83398\n",
      "Making Tree Features is -0.37708\n",
      "Making Tree Features is 0.18641\n"
     ]
    }
   ],
   "source": [
    "dt=DecisionTree()\n",
    "dt.train(train_data)"
   ]
  },
  {
   "cell_type": "code",
   "execution_count": 123,
   "metadata": {},
   "outputs": [],
   "source": [
    "y_pred=[]\n",
    "for ix in range(test_data.shape[0]):\n",
    "    y_pred.append(dt.predict(test_data.loc[ix]))"
   ]
  },
  {
   "cell_type": "code",
   "execution_count": 124,
   "metadata": {
    "scrolled": true
   },
   "outputs": [
    {
     "data": {
      "text/plain": [
       "['Dion',\n",
       " 'Dion',\n",
       " 'Sion',\n",
       " 'Dion',\n",
       " 'Sion',\n",
       " 'Dion',\n",
       " 'Sion',\n",
       " 'Dion',\n",
       " 'Sion',\n",
       " 'Sion',\n",
       " 'Sion',\n",
       " 'Sion',\n",
       " 'Sion',\n",
       " 'Sion',\n",
       " 'Dion',\n",
       " 'Sion',\n",
       " 'Sion',\n",
       " 'Sion',\n",
       " 'Sion',\n",
       " 'Sion',\n",
       " 'Sion',\n",
       " 'Sion',\n",
       " 'Dion',\n",
       " 'Sion',\n",
       " 'Sion',\n",
       " 'Sion',\n",
       " 'Sion',\n",
       " 'Sion',\n",
       " 'Sion',\n",
       " 'Sion',\n",
       " 'Sion',\n",
       " 'Sion',\n",
       " 'Sion',\n",
       " 'Sion',\n",
       " 'Sion',\n",
       " 'Sion',\n",
       " 'Sion',\n",
       " 'Sion',\n",
       " 'Sion',\n",
       " 'Sion',\n",
       " 'Dion',\n",
       " 'Sion',\n",
       " 'Sion',\n",
       " 'Sion',\n",
       " 'Dion',\n",
       " 'Sion',\n",
       " 'Sion',\n",
       " 'Dion',\n",
       " 'Sion',\n",
       " 'Sion',\n",
       " 'Sion',\n",
       " 'Sion',\n",
       " 'Sion',\n",
       " 'Sion',\n",
       " 'Sion',\n",
       " 'Sion',\n",
       " 'Sion',\n",
       " 'Sion',\n",
       " 'Sion',\n",
       " 'Sion',\n",
       " 'Dion',\n",
       " 'Dion',\n",
       " 'Dion',\n",
       " 'Dion',\n",
       " 'Sion',\n",
       " 'Sion',\n",
       " 'Sion',\n",
       " 'Sion',\n",
       " 'Sion',\n",
       " 'Sion',\n",
       " 'Sion',\n",
       " 'Sion',\n",
       " 'Sion',\n",
       " 'Dion',\n",
       " 'Dion',\n",
       " 'Sion',\n",
       " 'Sion',\n",
       " 'Sion',\n",
       " 'Sion',\n",
       " 'Sion',\n",
       " 'Sion',\n",
       " 'Sion',\n",
       " 'Sion',\n",
       " 'Sion',\n",
       " 'Sion',\n",
       " 'Sion',\n",
       " 'Dion',\n",
       " 'Sion',\n",
       " 'Sion',\n",
       " 'Sion',\n",
       " 'Sion',\n",
       " 'Sion',\n",
       " 'Sion',\n",
       " 'Sion',\n",
       " 'Sion',\n",
       " 'Dion',\n",
       " 'Sion',\n",
       " 'Sion',\n",
       " 'Sion',\n",
       " 'Dion',\n",
       " 'Dion',\n",
       " 'Sion',\n",
       " 'Sion',\n",
       " 'Sion',\n",
       " 'Sion',\n",
       " 'Sion']"
      ]
     },
     "execution_count": 124,
     "metadata": {},
     "output_type": "execute_result"
    }
   ],
   "source": [
    "y_pred"
   ]
  },
  {
   "cell_type": "code",
   "execution_count": 125,
   "metadata": {},
   "outputs": [
    {
     "name": "stdout",
     "output_type": "stream",
     "text": [
      "     g\n",
      "0    1\n",
      "1    0\n",
      "2    1\n",
      "3    0\n",
      "4    1\n",
      "..  ..\n",
      "101  1\n",
      "102  1\n",
      "103  1\n",
      "104  1\n",
      "105  1\n",
      "\n",
      "[106 rows x 1 columns]\n"
     ]
    }
   ],
   "source": [
    "y_actual=test_data[output_cols]\n",
    "print(y_actual)"
   ]
  },
  {
   "cell_type": "code",
   "execution_count": 126,
   "metadata": {},
   "outputs": [],
   "source": [
    "y_pred=le.fit_transform(y_pred)"
   ]
  },
  {
   "cell_type": "code",
   "execution_count": 127,
   "metadata": {},
   "outputs": [
    {
     "name": "stdout",
     "output_type": "stream",
     "text": [
      "[0 0 1 0 1 0 1 0 1 1 1 1 1 1 0 1 1 1 1 1 1 1 0 1 1 1 1 1 1 1 1 1 1 1 1 1 1\n",
      " 1 1 1 0 1 1 1 0 1 1 0 1 1 1 1 1 1 1 1 1 1 1 1 0 0 0 0 1 1 1 1 1 1 1 1 1 0\n",
      " 0 1 1 1 1 1 1 1 1 1 1 1 0 1 1 1 1 1 1 1 1 0 1 1 1 0 0 1 1 1 1 1]\n"
     ]
    }
   ],
   "source": [
    "print(y_pred)"
   ]
  },
  {
   "cell_type": "code",
   "execution_count": 128,
   "metadata": {},
   "outputs": [
    {
     "name": "stdout",
     "output_type": "stream",
     "text": [
      "(106,)\n",
      "(106, 1)\n"
     ]
    }
   ],
   "source": [
    "print(y_pred.shape)\n",
    "print(y_actual.shape)"
   ]
  },
  {
   "cell_type": "code",
   "execution_count": 129,
   "metadata": {},
   "outputs": [
    {
     "name": "stdout",
     "output_type": "stream",
     "text": [
      "(106, 1)\n"
     ]
    }
   ],
   "source": [
    "y_pred=np.array(y_pred).reshape((-1,1))\n",
    "print(y_pred.shape)"
   ]
  },
  {
   "cell_type": "code",
   "execution_count": 131,
   "metadata": {},
   "outputs": [
    {
     "name": "stdout",
     "output_type": "stream",
     "text": [
      "g    84.90566\n",
      "dtype: float64\n"
     ]
    }
   ],
   "source": [
    "acc=np.sum(y_pred==y_actual)/y_pred.shape[0]\n",
    "print(acc*100)"
   ]
  },
  {
   "cell_type": "markdown",
   "metadata": {},
   "source": [
    "### Random Forest"
   ]
  },
  {
   "cell_type": "code",
   "execution_count": 11,
   "metadata": {},
   "outputs": [],
   "source": [
    "from sklearn.ensemble import RandomForestClassifier"
   ]
  },
  {
   "cell_type": "markdown",
   "metadata": {},
   "source": [
    "#### n_estimators=10"
   ]
  },
  {
   "cell_type": "code",
   "execution_count": 12,
   "metadata": {},
   "outputs": [],
   "source": [
    "rf=RandomForestClassifier(n_estimators=10,criterion='entropy',max_depth=5)"
   ]
  },
  {
   "cell_type": "markdown",
   "metadata": {},
   "source": [
    "#### 30% test data"
   ]
  },
  {
   "cell_type": "code",
   "execution_count": 20,
   "metadata": {},
   "outputs": [],
   "source": [
    "split=int(0.7*df.shape[0])\n",
    "train_data_30=df[:split]\n",
    "test_data_30=df[split:]\n",
    "test_data_30=test_data_30.reset_index(drop=True)"
   ]
  },
  {
   "cell_type": "code",
   "execution_count": 21,
   "metadata": {},
   "outputs": [],
   "source": [
    "X_train=train_data_30[input_cols]\n",
    "Y_train=np.array(train_data_30[output_cols]).reshape((-1,))\n",
    "X_test=test_data_30[input_cols]\n",
    "Y_test=np.array(test_data_30[output_cols]).reshape((-1,))"
   ]
  },
  {
   "cell_type": "code",
   "execution_count": 22,
   "metadata": {},
   "outputs": [
    {
     "data": {
      "text/plain": [
       "RandomForestClassifier(bootstrap=True, ccp_alpha=0.0, class_weight=None,\n",
       "                       criterion='entropy', max_depth=5, max_features='auto',\n",
       "                       max_leaf_nodes=None, max_samples=None,\n",
       "                       min_impurity_decrease=0.0, min_impurity_split=None,\n",
       "                       min_samples_leaf=1, min_samples_split=2,\n",
       "                       min_weight_fraction_leaf=0.0, n_estimators=10,\n",
       "                       n_jobs=None, oob_score=False, random_state=None,\n",
       "                       verbose=0, warm_start=False)"
      ]
     },
     "execution_count": 22,
     "metadata": {},
     "output_type": "execute_result"
    }
   ],
   "source": [
    "rf.fit(X_train,Y_train)"
   ]
  },
  {
   "cell_type": "code",
   "execution_count": 23,
   "metadata": {},
   "outputs": [
    {
     "data": {
      "text/plain": [
       "0.9385245901639344"
      ]
     },
     "execution_count": 23,
     "metadata": {},
     "output_type": "execute_result"
    }
   ],
   "source": [
    "rf.score(X_train,Y_train)"
   ]
  },
  {
   "cell_type": "code",
   "execution_count": 24,
   "metadata": {},
   "outputs": [
    {
     "data": {
      "text/plain": [
       "0.9528301886792453"
      ]
     },
     "execution_count": 24,
     "metadata": {},
     "output_type": "execute_result"
    }
   ],
   "source": [
    "rf.score(X_test,Y_test)"
   ]
  }
 ],
 "metadata": {
  "kernelspec": {
   "display_name": "Python 3",
   "language": "python",
   "name": "python3"
  },
  "language_info": {
   "codemirror_mode": {
    "name": "ipython",
    "version": 3
   },
   "file_extension": ".py",
   "mimetype": "text/x-python",
   "name": "python",
   "nbconvert_exporter": "python",
   "pygments_lexer": "ipython3",
   "version": "3.7.4"
  }
 },
 "nbformat": 4,
 "nbformat_minor": 2
}
